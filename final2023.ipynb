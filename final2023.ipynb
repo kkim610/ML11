{
 "cells": [
  {
   "cell_type": "markdown",
   "metadata": {},
   "source": [
    "# 기말고사"
   ]
  },
  {
   "cell_type": "markdown",
   "metadata": {},
   "source": [
    "#### 제출: 이 파일(final2023.ipynb)를 실행하여 저장한 다음, 이 파일과, final_model.pkl 을 zip 파일로 변환한 후 zip 화일을 기말고사 과제함에 제줄하세요."
   ]
  },
  {
   "cell_type": "markdown",
   "metadata": {},
   "source": [
    "open book 시험이며, 웹 서치 및 chatGPT 사용이 가능합니다.\n",
    "\n",
    "개인 노트북을 사용할 수 있으며, 개인 노트북과 PC실 컴퓨터 동시 사용도 가능 합니다.\n",
    "\n",
    "다른 사람에게 문제를 전송하거나, 문제풀이를 의뢰하는 것은 허용하지 않습니다."
   ]
  },
  {
   "cell_type": "markdown",
   "metadata": {},
   "source": [
    " "
   ]
  },
  {
   "cell_type": "markdown",
   "metadata": {},
   "source": [
    " "
   ]
  },
  {
   "cell_type": "markdown",
   "metadata": {},
   "source": [
    "본 시험에 주어진 데이터 셋은 gamma.csv 이며 final2023.ipynb와 동일한 폴더에 있다."
   ]
  },
  {
   "cell_type": "markdown",
   "metadata": {},
   "source": [
    "예측하고자 하는 변수는 M 이며 0 또는 1 값을 갖는다. 따라서 주어진 문제는 분류( Classification) 문제로 볼 수 있다."
   ]
  },
  {
   "cell_type": "markdown",
   "metadata": {},
   "source": [
    " "
   ]
  },
  {
   "cell_type": "markdown",
   "metadata": {},
   "source": [
    "# 1"
   ]
  },
  {
   "cell_type": "markdown",
   "metadata": {},
   "source": [
    "1번 시험문제는 문제지를 참고 하세요."
   ]
  },
  {
   "cell_type": "code",
   "execution_count": null,
   "metadata": {},
   "outputs": [],
   "source": []
  },
  {
   "cell_type": "markdown",
   "metadata": {},
   "source": [
    "다음은 1번 문제의 해결하는 fitted  모형을 저장하기 위한 코드이며 반드시 실행해야 합니다.\n",
    "\n",
    "fitted model 이름을 hist_gbc 으로 하였습니다.\n",
    "\n",
    "만일 이름이 다르면 아래 코드에서 hist_gbc를 그 이름으로 바꾸세요."
   ]
  },
  {
   "cell_type": "code",
   "execution_count": null,
   "metadata": {},
   "outputs": [],
   "source": [
    "import pickle\n",
    "\n",
    "# open a file, where you want to store the data\n",
    "file = open('final_model.pkl', 'wb')\n",
    "\n",
    "# dump information to that file\n",
    "pickle.dump(hist_gbc, file)\n",
    "\n",
    "# close the file\n",
    "file.close()"
   ]
  },
  {
   "cell_type": "markdown",
   "metadata": {},
   "source": [
    "# 2"
   ]
  },
  {
   "cell_type": "markdown",
   "metadata": {},
   "source": [
    "2번 시험문제는 문제지를 참고 하세요."
   ]
  },
  {
   "cell_type": "code",
   "execution_count": null,
   "metadata": {},
   "outputs": [],
   "source": []
  }
 ],
 "metadata": {
  "kernelspec": {
   "display_name": "Python 3 (ipykernel)",
   "language": "python",
   "name": "python3"
  },
  "language_info": {
   "codemirror_mode": {
    "name": "ipython",
    "version": 3
   },
   "file_extension": ".py",
   "mimetype": "text/x-python",
   "name": "python",
   "nbconvert_exporter": "python",
   "pygments_lexer": "ipython3",
   "version": "3.10.9"
  }
 },
 "nbformat": 4,
 "nbformat_minor": 4
}
